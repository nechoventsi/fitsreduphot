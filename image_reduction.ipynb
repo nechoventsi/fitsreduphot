{
 "cells": [
  {
   "cell_type": "code",
   "execution_count": null,
   "metadata": {
    "collapsed": true
   },
   "outputs": [],
   "source": [
    "import numpy as np\n",
    "import pandas as pd\n",
    "import matplotlib.pyplot as plt\n",
    "%matplotlib inline\n",
    "plt.style.use(\"/home/ventsi/Work/mpl-supermongo/supermongo.mplstyle\")\n",
    "\n",
    "from astropy.io import fits\n",
    "import astropy.units as u\n",
    "import ccdproc\n",
    "\n",
    "import os"
   ]
  },
  {
   "cell_type": "code",
   "execution_count": null,
   "metadata": {},
   "outputs": [],
   "source": [
    "supported_extensions = [\".fit\", \".fits\"]\n",
    "\n",
    "flat_containing_directory = \"/home/ventsi/Work/TCrB/TCrB_final_data_selected/20160206_Sch_ESem/flat/\"\n",
    "# dark_containing_directory = \"/home/ventsi/Work/TCrB/TCrB_final_data_selected/20160206.Sch.ESem/dark\"\n",
    "\n",
    "if os.path.isdir(flat_containing_directory):\n",
    "    flat_files_sorted = sorted(os.listdir(flat_containing_directory))\n",
    "    for file_name in flat_files_sorted:\n",
    "#         extension = os.path.splitext(file_name)[1].lower()\n",
    "#         if extension not in supported_extensions:\n",
    "#             continue\n",
    "        \n",
    "        print(file_name)\n",
    "        hdu_list = fits.open(file_name)\n",
    "#         header = hdu_list[0].header\n",
    "\n",
    "#         if header[\"EXPTIME\"] == 2.0:\n",
    "#             print(header[\"EXPTIME\"])\n",
    "\n",
    "# if os.path.isdir(dark_containing_directory):\n",
    "#     dark_files_sorted = sorted(os.listdir(dark_containing_directory))\n",
    "#     for file_name in dark_files_sorted:\n",
    "#         extension = os.path.splitext(file_name)[1].lower()\n",
    "#         if extension not in supported_extensions:\n",
    "#             continue\n",
    "\n",
    "#     for file_name in sorted_files:\n",
    "#         extension = os.path.splitext(file_name)[1].lower()\n",
    "#         if extension not in supported_extensions:\n",
    "#             continue\n",
    "\n",
    "#         hdulist = fits.open(file_name)\n",
    "#         data = hdulist[0].data.astype(float)\n",
    "#         header = hdulist[0].header"
   ]
  }
 ],
 "metadata": {
  "kernelspec": {
   "display_name": "Python 3",
   "language": "python",
   "name": "python3"
  },
  "language_info": {
   "codemirror_mode": {
    "name": "ipython",
    "version": 3
   },
   "file_extension": ".py",
   "mimetype": "text/x-python",
   "name": "python",
   "nbconvert_exporter": "python",
   "pygments_lexer": "ipython3",
   "version": "3.6.3"
  }
 },
 "nbformat": 4,
 "nbformat_minor": 2
}
