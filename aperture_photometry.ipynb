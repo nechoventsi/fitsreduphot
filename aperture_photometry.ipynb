{
 "cells": [
  {
   "cell_type": "code",
   "execution_count": 1,
   "metadata": {
    "collapsed": true
   },
   "outputs": [],
   "source": [
    "import numpy as np\n",
    "import pandas as pd\n",
    "import matplotlib.pyplot as plt\n",
    "%matplotlib inline\n",
    "plt.style.use(\"/home/ventsi/Work/mpl-supermongo/supermongo.mplstyle\")\n",
    "\n",
    "from astropy.io import fits\n",
    "import astropy.units as u\n",
    "from photutils import aperture_photometry, CircularAperture, CircularAnnulus\n",
    "\n",
    "import os"
   ]
  },
  {
   "cell_type": "code",
   "execution_count": 2,
   "metadata": {
    "collapsed": true
   },
   "outputs": [],
   "source": [
    "# Apertures:\n",
    "positions = [(153.7, 177.8), (397, 320.3)] # TCrB, #stA\n",
    "apertures = CircularAperture(positions, r=7.)\n",
    "annulus = CircularAnnulus(positions, r_in=13., r_out=19.)\n",
    "phot_apertures = [apertures, annulus]"
   ]
  },
  {
   "cell_type": "code",
   "execution_count": 3,
   "metadata": {
    "collapsed": true
   },
   "outputs": [],
   "source": [
    "supported_extensions = [\".fit\", \".fits\"]\n",
    "\n",
    "containing_directory = \"/home/ventsi/Work/TCrB/TCrB_final_data_selected/20160403_ubv_sh/v_ptr/aligned\"\n",
    "\n",
    "if os.path.isdir(containing_directory):\n",
    "    files = os.listdir(containing_directory)\n",
    "    sorted_files = sorted(files)\n",
    "    \n",
    "    column_names = [\"TCrB sum\", \"stA sum\"]\n",
    "    mag_table = pd.DataFrame(columns=column_names)\n",
    "    \n",
    "    for file_name in sorted_files:\n",
    "        extension = os.path.splitext(file_name)[1].lower()\n",
    "        if extension not in supported_extensions:\n",
    "            continue\n",
    "        \n",
    "        hdulist = fits.open(file_name)\n",
    "        data = hdulist[0].data.astype(float)\n",
    "        header = hdulist[0].header\n",
    "\n",
    "        phot_table = aperture_photometry(data, phot_apertures)\n",
    "        for col in phot_table.colnames:\n",
    "            phot_table[col].info.format = \"%.8g\" # for consistent table output\n",
    "\n",
    "        background_mean = phot_table[\"aperture_sum_1\"] / annulus.area()\n",
    "\n",
    "        background_local = background_mean * apertures.area()\n",
    "        sum_minus_background = phot_table[\"aperture_sum_0\"] - background_local\n",
    "        phot_table[\"residual_aperture_sum\"] = sum_minus_background\n",
    "\n",
    "        mag_table = mag_table.append({\"TCrB sum\": phot_table[\"residual_aperture_sum\"][0], \"stA sum\": phot_table[\"residual_aperture_sum\"][1]}, ignore_index=True)"
   ]
  },
  {
   "cell_type": "code",
   "execution_count": 4,
   "metadata": {},
   "outputs": [
    {
     "data": {
      "text/html": [
       "<div>\n",
       "<style>\n",
       "    .dataframe thead tr:only-child th {\n",
       "        text-align: right;\n",
       "    }\n",
       "\n",
       "    .dataframe thead th {\n",
       "        text-align: left;\n",
       "    }\n",
       "\n",
       "    .dataframe tbody tr th {\n",
       "        vertical-align: top;\n",
       "    }\n",
       "</style>\n",
       "<table border=\"1\" class=\"dataframe\">\n",
       "  <thead>\n",
       "    <tr style=\"text-align: right;\">\n",
       "      <th></th>\n",
       "      <th>TCrB sum</th>\n",
       "      <th>stA sum</th>\n",
       "    </tr>\n",
       "  </thead>\n",
       "  <tbody>\n",
       "    <tr>\n",
       "      <th>0</th>\n",
       "      <td>167433.267662</td>\n",
       "      <td>27598.784016</td>\n",
       "    </tr>\n",
       "    <tr>\n",
       "      <th>1</th>\n",
       "      <td>166047.014042</td>\n",
       "      <td>27210.622413</td>\n",
       "    </tr>\n",
       "    <tr>\n",
       "      <th>2</th>\n",
       "      <td>163730.156354</td>\n",
       "      <td>27239.698320</td>\n",
       "    </tr>\n",
       "    <tr>\n",
       "      <th>3</th>\n",
       "      <td>164669.220140</td>\n",
       "      <td>27813.143169</td>\n",
       "    </tr>\n",
       "    <tr>\n",
       "      <th>4</th>\n",
       "      <td>164352.228057</td>\n",
       "      <td>27225.930932</td>\n",
       "    </tr>\n",
       "  </tbody>\n",
       "</table>\n",
       "</div>"
      ],
      "text/plain": [
       "        TCrB sum       stA sum\n",
       "0  167433.267662  27598.784016\n",
       "1  166047.014042  27210.622413\n",
       "2  163730.156354  27239.698320\n",
       "3  164669.220140  27813.143169\n",
       "4  164352.228057  27225.930932"
      ]
     },
     "execution_count": 4,
     "metadata": {},
     "output_type": "execute_result"
    }
   ],
   "source": [
    "mag_table.head()"
   ]
  },
  {
   "cell_type": "code",
   "execution_count": 5,
   "metadata": {
    "collapsed": true
   },
   "outputs": [],
   "source": [
    "mag_table[\"TCrB sum\"] = mag_table[\"TCrB sum\"].astype(float)\n",
    "mag_table[\"stA sum\"] = mag_table[\"stA sum\"].astype(float)"
   ]
  },
  {
   "cell_type": "code",
   "execution_count": 6,
   "metadata": {
    "collapsed": true
   },
   "outputs": [],
   "source": [
    "mag_table[\"TCrB inst\"] = 25 + -2.5 * np.log10(mag_table[\"TCrB sum\"])\n",
    "mag_table[\"stA inst\"] = 25 + -2.5 * np.log10(mag_table[\"stA sum\"])"
   ]
  },
  {
   "cell_type": "code",
   "execution_count": 7,
   "metadata": {
    "scrolled": true
   },
   "outputs": [
    {
     "data": {
      "text/html": [
       "<div>\n",
       "<style>\n",
       "    .dataframe thead tr:only-child th {\n",
       "        text-align: right;\n",
       "    }\n",
       "\n",
       "    .dataframe thead th {\n",
       "        text-align: left;\n",
       "    }\n",
       "\n",
       "    .dataframe tbody tr th {\n",
       "        vertical-align: top;\n",
       "    }\n",
       "</style>\n",
       "<table border=\"1\" class=\"dataframe\">\n",
       "  <thead>\n",
       "    <tr style=\"text-align: right;\">\n",
       "      <th></th>\n",
       "      <th>TCrB sum</th>\n",
       "      <th>stA sum</th>\n",
       "      <th>TCrB inst</th>\n",
       "      <th>stA inst</th>\n",
       "    </tr>\n",
       "  </thead>\n",
       "  <tbody>\n",
       "    <tr>\n",
       "      <th>0</th>\n",
       "      <td>167433.267662</td>\n",
       "      <td>27598.784016</td>\n",
       "      <td>11.940396</td>\n",
       "      <td>13.897775</td>\n",
       "    </tr>\n",
       "    <tr>\n",
       "      <th>1</th>\n",
       "      <td>166047.014042</td>\n",
       "      <td>27210.622413</td>\n",
       "      <td>11.949422</td>\n",
       "      <td>13.913154</td>\n",
       "    </tr>\n",
       "    <tr>\n",
       "      <th>2</th>\n",
       "      <td>163730.156354</td>\n",
       "      <td>27239.698320</td>\n",
       "      <td>11.964678</td>\n",
       "      <td>13.911994</td>\n",
       "    </tr>\n",
       "    <tr>\n",
       "      <th>3</th>\n",
       "      <td>164669.220140</td>\n",
       "      <td>27813.143169</td>\n",
       "      <td>11.958469</td>\n",
       "      <td>13.889375</td>\n",
       "    </tr>\n",
       "    <tr>\n",
       "      <th>4</th>\n",
       "      <td>164352.228057</td>\n",
       "      <td>27225.930932</td>\n",
       "      <td>11.960561</td>\n",
       "      <td>13.912543</td>\n",
       "    </tr>\n",
       "  </tbody>\n",
       "</table>\n",
       "</div>"
      ],
      "text/plain": [
       "        TCrB sum       stA sum  TCrB inst   stA inst\n",
       "0  167433.267662  27598.784016  11.940396  13.897775\n",
       "1  166047.014042  27210.622413  11.949422  13.913154\n",
       "2  163730.156354  27239.698320  11.964678  13.911994\n",
       "3  164669.220140  27813.143169  11.958469  13.889375\n",
       "4  164352.228057  27225.930932  11.960561  13.912543"
      ]
     },
     "execution_count": 7,
     "metadata": {},
     "output_type": "execute_result"
    }
   ],
   "source": [
    "mag_table.head()"
   ]
  },
  {
   "cell_type": "code",
   "execution_count": 8,
   "metadata": {
    "collapsed": true
   },
   "outputs": [],
   "source": [
    "jd = np.genfromtxt(\"jd.dat\", dtype=\"float\", skip_header=0)\n",
    "mag_table[\"JD\"] = jd"
   ]
  },
  {
   "cell_type": "code",
   "execution_count": 9,
   "metadata": {},
   "outputs": [
    {
     "data": {
      "image/png": "[encoded data removed]",
      "text/plain": [
       "<matplotlib.figure.Figure at 0x7f09a7a94748>"
      ]
     },
     "metadata": {},
     "output_type": "display_data"
    }
   ],
   "source": [
    "x = mag_table[\"JD\"] - 2457482\n",
    "y = mag_table[\"stA inst\"] - mag_table[\"TCrB inst\"]\n",
    "\n",
    "plt.errorbar(x, y, fmt=\".\", color=\"green\", markersize=1.25, ecolor=\"green\", elinewidth=0.75, capsize=1.25, capthick=0.75)\n",
    "\n",
    "plt.xlabel(\"JD 2457482+\")\n",
    "plt.ylabel(\"Instrumental magnitude in V band\")\n",
    "plt.ylim([2.10, 1.75])\n",
    "# Reverse Y axis:\n",
    "plt.gca().invert_yaxis()\n",
    "\n",
    "plt.show()"
   ]
  }
 ],
 "metadata": {
  "kernelspec": {
   "display_name": "Python 3",
   "language": "python",
   "name": "python3"
  },
  "language_info": {
   "codemirror_mode": {
    "name": "ipython",
    "version": 3
   },
   "file_extension": ".py",
   "mimetype": "text/x-python",
   "name": "python",
   "nbconvert_exporter": "python",
   "pygments_lexer": "ipython3",
   "version": "3.7.1"
  }
 },
 "nbformat": 4,
 "nbformat_minor": 2
}
